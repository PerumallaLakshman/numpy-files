{
 "cells": [
  {
   "cell_type": "markdown",
   "id": "de28cf58",
   "metadata": {},
   "source": [
    "#  Q1): Write a program to create a 5 dimensional array with all zeros and ones\n"
   ]
  },
  {
   "cell_type": "code",
   "execution_count": 31,
   "id": "b70db4cf",
   "metadata": {},
   "outputs": [],
   "source": [
    "import numpy as np\n"
   ]
  },
  {
   "cell_type": "code",
   "execution_count": 12,
   "id": "0d788b38",
   "metadata": {},
   "outputs": [
    {
     "data": {
      "text/plain": [
       "array([[[[[1, 0, 1, 0, 1, 0, 1, 0, 1, 0],\n",
       "          [0, 1, 0, 1, 0, 1, 0, 1, 0, 1]]]]])"
      ]
     },
     "execution_count": 12,
     "metadata": {},
     "output_type": "execute_result"
    }
   ],
   "source": [
    "np.array([[1,0,1,0,1,0,1,0,1,0],[0,1,0,1,0,1,0,1,0,1]],ndmin=5)"
   ]
  },
  {
   "cell_type": "markdown",
   "id": "ed745e65",
   "metadata": {},
   "source": [
    "# Q2): Write a program to create an array of 10 zeros,10 ones, and 10 fives in row 1 2 and 3 which create a new array of shape (3,10)\n",
    "\n"
   ]
  },
  {
   "cell_type": "code",
   "execution_count": 27,
   "id": "920eb86a",
   "metadata": {},
   "outputs": [
    {
     "data": {
      "text/plain": [
       "array([[[0, 0, 0, 0, 0, 0, 0, 0, 0, 0],\n",
       "        [1, 1, 1, 1, 1, 1, 1, 1, 1, 1],\n",
       "        [5, 5, 5, 5, 5, 5, 5, 5, 5, 5]]])"
      ]
     },
     "execution_count": 27,
     "metadata": {},
     "output_type": "execute_result"
    }
   ],
   "source": [
    "import numpy as np\n",
    "\n",
    "np.array([[[0,0,0,0,0,0,0,0,0,0],[1,1,1,1,1,1,1,1,1,1],[5,5,5,5,5,5,5,5,5,5]]])"
   ]
  },
  {
   "cell_type": "markdown",
   "id": "5934017f",
   "metadata": {},
   "source": [
    "# Q3): Write a program to create a 3x4 matrix filled with values from 10 to 21.\n",
    "\n"
   ]
  },
  {
   "cell_type": "code",
   "execution_count": 1,
   "id": "882fafe0",
   "metadata": {},
   "outputs": [],
   "source": [
    "import numpy as np"
   ]
  },
  {
   "cell_type": "code",
   "execution_count": 3,
   "id": "b9593889",
   "metadata": {},
   "outputs": [
    {
     "data": {
      "text/plain": [
       "array([[10, 11, 12, 13],\n",
       "       [14, 15, 16, 17],\n",
       "       [18, 19, 20, 21]])"
      ]
     },
     "execution_count": 3,
     "metadata": {},
     "output_type": "execute_result"
    }
   ],
   "source": [
    "array=np.arange(10,22).reshape(3,4)\n",
    "array"
   ]
  },
  {
   "cell_type": "markdown",
   "id": "e416b772",
   "metadata": {},
   "source": [
    "# Q4): Write a  program to create a 10x10 zero matrix with elements on the main diagonal equal to 0,1,2,3,4,5,6,7,8,9,\n"
   ]
  },
  {
   "cell_type": "code",
   "execution_count": 26,
   "id": "0c7715c1",
   "metadata": {},
   "outputs": [
    {
     "data": {
      "text/plain": [
       "array([[0, 0, 0, 0, 0, 0, 0, 0, 0, 0],\n",
       "       [0, 1, 0, 0, 0, 0, 0, 0, 0, 0],\n",
       "       [0, 0, 2, 0, 0, 0, 0, 0, 0, 0],\n",
       "       [0, 0, 0, 3, 0, 0, 0, 0, 0, 0],\n",
       "       [0, 0, 0, 0, 4, 0, 0, 0, 0, 0],\n",
       "       [0, 0, 0, 0, 0, 5, 0, 0, 0, 0],\n",
       "       [0, 0, 0, 0, 0, 0, 6, 0, 0, 0],\n",
       "       [0, 0, 0, 0, 0, 0, 0, 7, 0, 0],\n",
       "       [0, 0, 0, 0, 0, 0, 0, 0, 8, 0],\n",
       "       [0, 0, 0, 0, 0, 0, 0, 0, 0, 9]])"
      ]
     },
     "execution_count": 26,
     "metadata": {},
     "output_type": "execute_result"
    }
   ],
   "source": [
    "np.arange(0,10,1)\n",
    "np.diag([0,1,2,3,4,5,6,7,8,9])\n"
   ]
  },
  {
   "cell_type": "markdown",
   "id": "7bd11537",
   "metadata": {},
   "source": [
    "# Q5): Write a program to create a 4x4 array. Create an array from below array by swapping first and last, second and third columns.\n"
   ]
  },
  {
   "cell_type": "code",
   "execution_count": 41,
   "id": "ba576a26",
   "metadata": {},
   "outputs": [
    {
     "data": {
      "text/plain": [
       "array([[ 4,  3,  2,  1],\n",
       "       [ 8,  7,  6,  5],\n",
       "       [12, 11, 10,  9],\n",
       "       [16, 15, 14, 13]])"
      ]
     },
     "execution_count": 41,
     "metadata": {},
     "output_type": "execute_result"
    }
   ],
   "source": [
    "import numpy as np\n",
    "a=np.arange(1,17).reshape(4,4)\n",
    "a[:,[0,-1]]=a[:,[-1,0]]\n",
    "a[:,[1,2]]=a[:,[2,1]]\n",
    "a\n"
   ]
  },
  {
   "cell_type": "markdown",
   "id": "5601aab8",
   "metadata": {},
   "source": [
    "# Q6): Write a program to reverse an array (the first element becomes the last).\n",
    "# Given array:\n",
    "# [12 13 14 15 16 17 18 19 20 21 22 23 24 25 26 27 ]\n"
   ]
  },
  {
   "cell_type": "code",
   "execution_count": 27,
   "id": "12053d7e",
   "metadata": {},
   "outputs": [
    {
     "name": "stdout",
     "output_type": "stream",
     "text": [
      "12\n",
      "27\n"
     ]
    },
    {
     "data": {
      "text/plain": [
       "array([27, 26, 25, 24, 23, 22, 21, 20, 19, 18, 17, 16, 15, 14, 13, 12])"
      ]
     },
     "execution_count": 27,
     "metadata": {},
     "output_type": "execute_result"
    }
   ],
   "source": [
    "a=int(input())\n",
    "b=int(input())\n",
    "x=np.arange(a,b+1)\n",
    "x[::-1]"
   ]
  },
  {
   "cell_type": "markdown",
   "id": "7853d8d0",
   "metadata": {},
   "source": [
    "# Q7): Write a program to access all the elements greater than 30 and less than 80 and multiples of 5 from an array of shape 10,10 .Elements range from 1 to 100\n",
    "\n"
   ]
  },
  {
   "cell_type": "code",
   "execution_count": 39,
   "id": "b225d963",
   "metadata": {
    "scrolled": true
   },
   "outputs": [
    {
     "data": {
      "text/plain": [
       "array([35, 40, 45, 50, 55, 60, 65, 70, 75])"
      ]
     },
     "execution_count": 39,
     "metadata": {},
     "output_type": "execute_result"
    }
   ],
   "source": [
    "import numpy as np\n",
    "a=np.arange(1,101).reshape(10,10)\n",
    "a=a[a%5==0]\n",
    "a=a[a>30]\n",
    "a=a[a<80]\n",
    "a\n"
   ]
  },
  {
   "cell_type": "markdown",
   "id": "cc41817f",
   "metadata": {},
   "source": [
    "# Q8): Write a program to create a 2D array with 1 on the border and 0 inside.\n",
    "\n"
   ]
  },
  {
   "cell_type": "code",
   "execution_count": 2,
   "id": "6f23a7f1",
   "metadata": {},
   "outputs": [
    {
     "data": {
      "text/plain": [
       "array([[1, 1, 1, 1, 1, 1, 1, 1, 1],\n",
       "       [1, 0, 0, 0, 0, 0, 0, 0, 1],\n",
       "       [1, 0, 0, 0, 0, 0, 0, 0, 1],\n",
       "       [1, 0, 0, 0, 0, 0, 0, 0, 1],\n",
       "       [1, 0, 0, 0, 0, 0, 0, 0, 1],\n",
       "       [1, 0, 0, 0, 0, 0, 0, 0, 1],\n",
       "       [1, 0, 0, 0, 0, 0, 0, 0, 1],\n",
       "       [1, 0, 0, 0, 0, 0, 0, 0, 1],\n",
       "       [1, 1, 1, 1, 1, 1, 1, 1, 1]])"
      ]
     },
     "execution_count": 2,
     "metadata": {},
     "output_type": "execute_result"
    }
   ],
   "source": [
    "arr1=np.ones((9,9),dtype=int)\n",
    "arr1[1:8,1:8]=0\n",
    "arr1\n",
    "\n"
   ]
  },
  {
   "cell_type": "markdown",
   "id": "b8ed4431",
   "metadata": {},
   "source": [
    "# Q9): Write a program to create a checkerboard pattern .Don't use default array function Checkerboard pattern:                                                   \n",
    "#  [[0 1 0 1 0 1 0 1]                                                      \n",
    "#  [1 0 1 0 1 0 1 0]                                                      \n",
    "#  [0 1 0 1 0 1 0 1]                                                      \n",
    "#  [1 0 1 0 1 0 1 0]                                                      \n",
    "#  [0 1 0 1 0 1 0 1]                                                      \n",
    "#  [ 1 0 1 0 1 0 1 0]                                                      \n",
    "#  [0 1 0 1 0 1 0 1]                                                      \n",
    "#  [1 0 1 0 1 0 1 0]]\n"
   ]
  },
  {
   "cell_type": "code",
   "execution_count": 5,
   "id": "e7c67637",
   "metadata": {},
   "outputs": [
    {
     "data": {
      "text/plain": [
       "array([[0, 1, 0, 1, 0, 1, 0, 1],\n",
       "       [1, 0, 1, 0, 1, 0, 1, 0],\n",
       "       [0, 1, 0, 1, 0, 1, 0, 1],\n",
       "       [1, 0, 1, 0, 1, 0, 1, 0],\n",
       "       [0, 1, 0, 1, 0, 1, 0, 1],\n",
       "       [1, 0, 1, 0, 1, 0, 1, 0],\n",
       "       [0, 1, 0, 1, 0, 1, 0, 1],\n",
       "       [1, 0, 1, 0, 1, 0, 1, 0]])"
      ]
     },
     "execution_count": 5,
     "metadata": {},
     "output_type": "execute_result"
    }
   ],
   "source": [
    "import numpy as np\n",
    "arr1=np.zeros((8,8),dtype=int)\n",
    "arr1[[0,0,0,0],[1,3,5,7]]=1\n",
    "arr1[[1,1,1,1],[0,2,4,6]]=1\n",
    "arr1[[2,2,2,2],[1,3,5,7]]=1\n",
    "arr1[[3,3,3,3],[0,2,4,6]]=1\n",
    "arr1[[4,4,4,4],[1,3,5,7]]=1\n",
    "arr1[[5,5,5,5],[0,2,4,6]]=1\n",
    "arr1[[6,6,6,6],[1,3,5,7]]=1\n",
    "arr1[[7,7,7,7],[0,2,4,6]]=1\n",
    "arr1"
   ]
  },
  {
   "cell_type": "markdown",
   "id": "0b25f467",
   "metadata": {},
   "source": [
    "# Q10): Write a program to find common values between two arrays.\n",
    "# Expected Output:\n",
    "# array1: [10 20 40 60]\n",
    "# array2: [10, 30, 40,50]\n"
   ]
  },
  {
   "cell_type": "code",
   "execution_count": 1,
   "id": "4f6797b5",
   "metadata": {},
   "outputs": [
    {
     "data": {
      "text/plain": [
       "array([4, 5, 6])"
      ]
     },
     "execution_count": 1,
     "metadata": {},
     "output_type": "execute_result"
    }
   ],
   "source": [
    "import numpy as np\n",
    "x=np.array([[1,2,3,4,5,6]])\n",
    "y=np.array([[4,5,6,7,8,9]])\n",
    "np.intersect1d(x,y)"
   ]
  },
  {
   "cell_type": "markdown",
   "id": "c9d628d6",
   "metadata": {},
   "source": [
    "# Q11): Write a program to create an array 2d array and then reshape into 1d array\n"
   ]
  },
  {
   "cell_type": "code",
   "execution_count": 36,
   "id": "2c3bd810",
   "metadata": {},
   "outputs": [
    {
     "data": {
      "text/plain": [
       "array([ 1,  2,  3,  4,  5,  6,  7,  8,  9, 10, 11, 12, 13, 14, 15, 16, 17,\n",
       "       18, 19, 20])"
      ]
     },
     "execution_count": 36,
     "metadata": {},
     "output_type": "execute_result"
    }
   ],
   "source": [
    "x=np.arange(1,21).reshape(4,5)\n",
    "x.flatten()"
   ]
  },
  {
   "cell_type": "markdown",
   "id": "d5a3e6b1",
   "metadata": {},
   "source": [
    "# Q12): Write a user defined function for creating a 1 or 2d array from scratch without using array functions\n",
    "\n"
   ]
  },
  {
   "cell_type": "code",
   "execution_count": 8,
   "id": "3f2f3ced",
   "metadata": {},
   "outputs": [
    {
     "name": "stdout",
     "output_type": "stream",
     "text": [
      "enter no of elements: 4\n",
      "enter the element: 1,1,1,1\n",
      "enter the element: 2,2,2,2\n",
      "enter the element: 3,3,3,3\n",
      "enter the element: 4,4,4,4\n",
      "['1,1,1,1', '2,2,2,2', '3,3,3,3', '4,4,4,4']\n",
      "enter the dimention: 2\n",
      "array([[1,1,1,1]\n",
      "       [2,2,2,2]\n",
      "       [3,3,3,3]\n",
      "       [4,4,4,4]\n",
      "])\n"
     ]
    }
   ],
   "source": [
    " def array_2d(x):\n",
    "        n=int(input(\"enter the dimention: \"))\n",
    "        s=len(x)\n",
    "        if n==1:\n",
    "            print(\"array({})\".format(x))\n",
    "        elif n==2:\n",
    "            print(\"array([\",end=\"\")\n",
    "            print(\"[{}]\".format(x[0]))\n",
    "            for y in range(1,s-1):\n",
    "                print(\"       [{}]\".format(x[y]))\n",
    "            for y in range(s-1,s):\n",
    "                print(\"       [{}]\".format(x[y],end=\"\"))\n",
    "                print(\"])\")\n",
    "l=[]\n",
    "k=int(input(\"enter no of elements: \"))\n",
    "for i in range(k):\n",
    "    a=input(\"enter the element: \")\n",
    "    l.append(a)\n",
    "print(l)\n",
    "array_2d(l)"
   ]
  },
  {
   "cell_type": "code",
   "execution_count": null,
   "id": "e0e6457a",
   "metadata": {},
   "outputs": [],
   "source": []
  }
 ],
 "metadata": {
  "kernelspec": {
   "display_name": "Python 3 (ipykernel)",
   "language": "python",
   "name": "python3"
  },
  "language_info": {
   "codemirror_mode": {
    "name": "ipython",
    "version": 3
   },
   "file_extension": ".py",
   "mimetype": "text/x-python",
   "name": "python",
   "nbconvert_exporter": "python",
   "pygments_lexer": "ipython3",
   "version": "3.11.3"
  }
 },
 "nbformat": 4,
 "nbformat_minor": 5
}
