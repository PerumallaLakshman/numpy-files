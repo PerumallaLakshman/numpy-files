{
 "cells": [
  {
   "cell_type": "code",
   "execution_count": 2,
   "id": "181a043f",
   "metadata": {},
   "outputs": [],
   "source": [
    "import numpy as np"
   ]
  },
  {
   "cell_type": "code",
   "execution_count": 3,
   "id": "6cc31224",
   "metadata": {},
   "outputs": [
    {
     "data": {
      "text/plain": [
       "array(['1-total_bill', '2-tip', '3-sex', '4-smoker', '5-day', '6-time',\n",
       "       '7-size'], dtype='<U12')"
      ]
     },
     "execution_count": 3,
     "metadata": {},
     "output_type": "execute_result"
    }
   ],
   "source": [
    "np.array([\"1-total_bill\",\"2-tip\",\"3-sex\",\"4-smoker\",\"5-day\",\"6-time\",\"7-size\"])\n"
   ]
  },
  {
   "cell_type": "markdown",
   "id": "89a744ef",
   "metadata": {},
   "source": [
    "# extract data from csv file to numpy array"
   ]
  },
  {
   "cell_type": "code",
   "execution_count": 4,
   "id": "b453c480",
   "metadata": {},
   "outputs": [
    {
     "data": {
      "text/plain": [
       "array([[  0.  ,  16.99,   1.01, ...,   1.  ,   0.  ,   2.  ],\n",
       "       [  1.  ,  10.34,   1.66, ...,   1.  ,   0.  ,   3.  ],\n",
       "       [  2.  ,  21.01,   3.5 , ...,   1.  ,   0.  ,   3.  ],\n",
       "       ...,\n",
       "       [241.  ,  22.67,   2.  , ...,   0.  ,   0.  ,   2.  ],\n",
       "       [242.  ,  17.82,   1.75, ...,   0.  ,   0.  ,   2.  ],\n",
       "       [243.  ,  18.78,   3.  , ...,   2.  ,   0.  ,   2.  ]])"
      ]
     },
     "execution_count": 4,
     "metadata": {},
     "output_type": "execute_result"
    }
   ],
   "source": [
    "arr=np.genfromtxt(r\"C:\\Users\\HARI KRISHNA\\Downloads\\tipsf.csv\",delimiter=\",\",skip_header=1)\n",
    "arr"
   ]
  },
  {
   "cell_type": "markdown",
   "id": "4d16a3c8",
   "metadata": {},
   "source": [
    "# Q 1) : what is the total bill value?"
   ]
  },
  {
   "cell_type": "code",
   "execution_count": 5,
   "id": "8c593dbd",
   "metadata": {},
   "outputs": [
    {
     "data": {
      "text/plain": [
       "4827.77"
      ]
     },
     "execution_count": 5,
     "metadata": {},
     "output_type": "execute_result"
    }
   ],
   "source": [
    "total_bill=arr[:,1]\n",
    "np.sum(total_bill)\n"
   ]
  },
  {
   "cell_type": "markdown",
   "id": "f2f773cd",
   "metadata": {},
   "source": [
    "# Q 2) :  what is the total tip value?"
   ]
  },
  {
   "cell_type": "code",
   "execution_count": 6,
   "id": "1190eec1",
   "metadata": {},
   "outputs": [
    {
     "data": {
      "text/plain": [
       "731.5799999999999"
      ]
     },
     "execution_count": 6,
     "metadata": {},
     "output_type": "execute_result"
    }
   ],
   "source": [
    "total_tip=arr[:,2]\n",
    "np.sum(total_tip)\n"
   ]
  },
  {
   "cell_type": "markdown",
   "id": "ad5da62a",
   "metadata": {},
   "source": [
    "# Q 3) : count how many sunday,saturday,thursday,fridays are there?"
   ]
  },
  {
   "cell_type": "code",
   "execution_count": 7,
   "id": "fc7b670e",
   "metadata": {},
   "outputs": [
    {
     "data": {
      "text/plain": [
       "(array([0., 1., 2., 3.]), array([87, 76, 62, 19], dtype=int64))"
      ]
     },
     "execution_count": 7,
     "metadata": {},
     "output_type": "execute_result"
    }
   ],
   "source": [
    "days=arr[:,5]\n",
    "x=np.unique(days,return_counts=True)\n",
    "x"
   ]
  },
  {
   "cell_type": "markdown",
   "id": "c857065c",
   "metadata": {},
   "source": [
    "# Q 4) : how many smokers are there? "
   ]
  },
  {
   "cell_type": "code",
   "execution_count": 8,
   "id": "c35feed4",
   "metadata": {},
   "outputs": [
    {
     "data": {
      "text/plain": [
       "(array([0., 1.]), array([151,  93], dtype=int64))"
      ]
     },
     "execution_count": 8,
     "metadata": {},
     "output_type": "execute_result"
    }
   ],
   "source": [
    "smoker=arr[:,4]\n",
    "x=np.unique(smoker,return_counts=True)\n",
    "x"
   ]
  },
  {
   "cell_type": "markdown",
   "id": "71769f48",
   "metadata": {},
   "source": [
    "# Q 5) : what is the average tip given by female and male?"
   ]
  },
  {
   "cell_type": "code",
   "execution_count": 9,
   "id": "200b5f62",
   "metadata": {},
   "outputs": [
    {
     "data": {
      "text/plain": [
       "3.0896178343949043"
      ]
     },
     "execution_count": 9,
     "metadata": {},
     "output_type": "execute_result"
    }
   ],
   "source": [
    "avg_male_tip=arr[arr[:,3]!=0]\n",
    "np.mean(avg_male_tip[:,2])"
   ]
  },
  {
   "cell_type": "code",
   "execution_count": 10,
   "id": "043c8a48",
   "metadata": {},
   "outputs": [
    {
     "data": {
      "text/plain": [
       "2.8334482758620685"
      ]
     },
     "execution_count": 10,
     "metadata": {},
     "output_type": "execute_result"
    }
   ],
   "source": [
    "avg_female_tip=arr[arr[:,3]==0]\n",
    "np.mean(avg_female_tip[:,2])"
   ]
  },
  {
   "cell_type": "markdown",
   "id": "275ba5dd",
   "metadata": {},
   "source": [
    "# Q 6) : how much amount is spent has been spent by female?\n"
   ]
  },
  {
   "cell_type": "code",
   "execution_count": 11,
   "id": "77fa1de7",
   "metadata": {},
   "outputs": [
    {
     "data": {
      "text/plain": [
       "1570.9499999999996"
      ]
     },
     "execution_count": 11,
     "metadata": {},
     "output_type": "execute_result"
    }
   ],
   "source": [
    "female_bill=arr[arr[:,3]==0]\n",
    "np.sum(female_bill[:,1])"
   ]
  },
  {
   "cell_type": "markdown",
   "id": "ce670d8b",
   "metadata": {},
   "source": [
    "# Q 7) : what is the minimum and maximum tip given?"
   ]
  },
  {
   "cell_type": "code",
   "execution_count": 12,
   "id": "3cbd1df0",
   "metadata": {},
   "outputs": [
    {
     "data": {
      "text/plain": [
       "1.0"
      ]
     },
     "execution_count": 12,
     "metadata": {},
     "output_type": "execute_result"
    }
   ],
   "source": [
    "tip=arr[:,2]\n",
    "np.min(tip)"
   ]
  },
  {
   "cell_type": "code",
   "execution_count": 13,
   "id": "cbd3013a",
   "metadata": {},
   "outputs": [
    {
     "data": {
      "text/plain": [
       "10.0"
      ]
     },
     "execution_count": 13,
     "metadata": {},
     "output_type": "execute_result"
    }
   ],
   "source": [
    "np.max(tip)"
   ]
  },
  {
   "cell_type": "markdown",
   "id": "cffbcc5d",
   "metadata": {},
   "source": [
    "# Q 8) : howmany males and females are going for dinner,and lunch?"
   ]
  },
  {
   "cell_type": "code",
   "execution_count": 26,
   "id": "e3234c43",
   "metadata": {},
   "outputs": [
    {
     "name": "stdout",
     "output_type": "stream",
     "text": [
      "total_male_lunch are: 124\n",
      "total_female_lunch are: 52\n"
     ]
    }
   ],
   "source": [
    "lunch=arr[arr[:,6]==0]\n",
    "male_lunch=lunch[lunch[:,3]==1]\n",
    "female_lunch=lunch[lunch[:,3]==0]\n",
    "print(\"total_male_lunch are:\",len(male_lunch))\n",
    "print(\"total_female_lunch are:\",len(female_lunch))"
   ]
  },
  {
   "cell_type": "code",
   "execution_count": 27,
   "id": "40632042",
   "metadata": {},
   "outputs": [
    {
     "name": "stdout",
     "output_type": "stream",
     "text": [
      "total_male_dinner are: 33\n",
      "total_female_dinner are: 35\n"
     ]
    }
   ],
   "source": [
    "dinner=arr[arr[:,6]==1]\n",
    "male_dinner=dinner[dinner[:,3]==1]\n",
    "female_dinner=dinner[dinner[:,3]==0]\n",
    "print(\"total_male_dinner are:\",len(male_dinner))\n",
    "print(\"total_female_dinner are:\",len(female_dinner))"
   ]
  },
  {
   "cell_type": "markdown",
   "id": "96c8337e",
   "metadata": {},
   "source": [
    "# Q 9) : find out the average size?"
   ]
  },
  {
   "cell_type": "code",
   "execution_count": 14,
   "id": "ae7bc30d",
   "metadata": {},
   "outputs": [
    {
     "data": {
      "text/plain": [
       "2.569672131147541"
      ]
     },
     "execution_count": 14,
     "metadata": {},
     "output_type": "execute_result"
    }
   ],
   "source": [
    "size=arr[:,7]\n",
    "np.mean(size)"
   ]
  },
  {
   "cell_type": "markdown",
   "id": "2d7f65ea",
   "metadata": {},
   "source": [
    "# Q 10) : how many female smokers are there and male smokers are there? "
   ]
  },
  {
   "cell_type": "code",
   "execution_count": 24,
   "id": "c7eab063",
   "metadata": {},
   "outputs": [
    {
     "name": "stdout",
     "output_type": "stream",
     "text": [
      "total_male_smokers are: 60\n",
      "total_female_smokers are: 33\n"
     ]
    }
   ],
   "source": [
    "smokers=arr[arr[:,4]==1]\n",
    "male_smokers=smokers[smokers[:,3]==1]\n",
    "female_smokers=smokers[smokers[:,3]==0]\n",
    "print(\"total_male_smokers are:\",len(male_smokers))\n",
    "print(\"total_female_smokers are:\",len(female_smokers))\n"
   ]
  },
  {
   "cell_type": "code",
   "execution_count": 8,
   "id": "60d1c05c",
   "metadata": {},
   "outputs": [
    {
     "data": {
      "text/plain": [
       "array(['1-Length', '2-Diameter', '3-Height', '4-Weight',\n",
       "       '5-Shucked Weight', '6-Viscera Weight', '7-Shell Weight', '8-Age'],\n",
       "      dtype='<U16')"
      ]
     },
     "execution_count": 8,
     "metadata": {},
     "output_type": "execute_result"
    }
   ],
   "source": [
    "np.array([\"1-Length\",\"2-Diameter\",\"3-Height\",\"4-Weight\",\"5-Shucked Weight\",\"6-Viscera Weight\",\"7-Shell Weight\",\"8-Age\"])"
   ]
  },
  {
   "cell_type": "markdown",
   "id": "60d1dd15",
   "metadata": {},
   "source": [
    "# extract data from csv file to numpy array"
   ]
  },
  {
   "cell_type": "code",
   "execution_count": 68,
   "id": "66924a41",
   "metadata": {},
   "outputs": [
    {
     "data": {
      "text/plain": [
       "array([[ 1.575     ,  1.225     ,  0.375     , ...,  6.3219385 ,\n",
       "         9.63883   , 10.        ],\n",
       "       [ 1.2375    ,  1.        ,  0.375     , ...,  3.798833  ,\n",
       "         7.654365  , 19.        ],\n",
       "       [ 1.45      ,  1.1625    ,  0.4125    , ...,  7.01650125,\n",
       "         7.257472  , 11.        ],\n",
       "       ...,\n",
       "       [ 1.125     ,  0.9125    ,  0.2875    , ...,  1.984465  ,\n",
       "         3.118445  ,  7.        ],\n",
       "       [ 1.625     ,  1.275     ,  0.4125    , ...,  7.86698625,\n",
       "        10.489315  , 11.        ],\n",
       "       [ 1.5875    ,  1.25      ,  0.3875    , ...,  7.38504475,\n",
       "         8.788345  , 11.        ]])"
      ]
     },
     "execution_count": 68,
     "metadata": {},
     "output_type": "execute_result"
    }
   ],
   "source": [
    "arr=np.genfromtxt(r\"C:\\Users\\HARI KRISHNA\\Downloads\\train_extended.csv\",delimiter=\",\",skip_header=1)\n",
    "arr"
   ]
  },
  {
   "cell_type": "markdown",
   "id": "4fc79aa9",
   "metadata": {},
   "source": [
    "# Q 1) : what is the minimum and maximum length?"
   ]
  },
  {
   "cell_type": "code",
   "execution_count": 15,
   "id": "46633f53",
   "metadata": {},
   "outputs": [
    {
     "data": {
      "text/plain": [
       "array([1.575 , 1.2375, 1.45  , ..., 1.125 , 1.625 , 1.5875])"
      ]
     },
     "execution_count": 15,
     "metadata": {},
     "output_type": "execute_result"
    }
   ],
   "source": [
    "x=arr[:,0]\n",
    "x"
   ]
  },
  {
   "cell_type": "code",
   "execution_count": 16,
   "id": "016deea6",
   "metadata": {},
   "outputs": [
    {
     "data": {
      "text/plain": [
       "7.58349125"
      ]
     },
     "execution_count": 16,
     "metadata": {},
     "output_type": "execute_result"
    }
   ],
   "source": [
    "np.max(x)"
   ]
  },
  {
   "cell_type": "code",
   "execution_count": 17,
   "id": "94473473",
   "metadata": {},
   "outputs": [
    {
     "data": {
      "text/plain": [
       "0.0"
      ]
     },
     "execution_count": 17,
     "metadata": {},
     "output_type": "execute_result"
    }
   ],
   "source": [
    "np.min(x)"
   ]
  },
  {
   "cell_type": "markdown",
   "id": "d9727ed5",
   "metadata": {},
   "source": [
    "# Q 2) : what is the difference between minimum and maximum length ?"
   ]
  },
  {
   "cell_type": "code",
   "execution_count": 19,
   "id": "7f49b58c",
   "metadata": {},
   "outputs": [
    {
     "data": {
      "text/plain": [
       "7.58349125"
      ]
     },
     "execution_count": 19,
     "metadata": {},
     "output_type": "execute_result"
    }
   ],
   "source": [
    "np.max(x)-np.min(x)"
   ]
  },
  {
   "cell_type": "markdown",
   "id": "1ca1d55c",
   "metadata": {},
   "source": [
    "# Q 3) :find columnwise average "
   ]
  },
  {
   "cell_type": "code",
   "execution_count": 23,
   "id": "e37c3396",
   "metadata": {},
   "outputs": [
    {
     "data": {
      "text/plain": [
       "array([ 9.08330322,  7.82573462,  8.45955359, ...,  3.77732269,\n",
       "        9.96966509, 10.24930997])"
      ]
     },
     "execution_count": 23,
     "metadata": {},
     "output_type": "execute_result"
    }
   ],
   "source": [
    "def f(x):\n",
    "    return np.mean(x)\n",
    "average=np.apply_along_axis(f,1,arr)\n",
    "average  "
   ]
  },
  {
   "cell_type": "markdown",
   "id": "2d9879df",
   "metadata": {},
   "source": [
    "# Q 4) :findout all the ages whose height is greater than 0.4"
   ]
  },
  {
   "cell_type": "code",
   "execution_count": 29,
   "id": "3c14b6fe",
   "metadata": {},
   "outputs": [
    {
     "data": {
      "text/plain": [
       "array([11., 14., 13., ..., 11., 11., 11.])"
      ]
     },
     "execution_count": 29,
     "metadata": {},
     "output_type": "execute_result"
    }
   ],
   "source": [
    "x=arr[arr[:,2]>0.4]\n",
    "x[:,7]"
   ]
  },
  {
   "cell_type": "markdown",
   "id": "ac233523",
   "metadata": {},
   "source": [
    "# Q 5) :what is the average height and weight of the persons whose age is 10?"
   ]
  },
  {
   "cell_type": "code",
   "execution_count": 65,
   "id": "b918ef82",
   "metadata": {},
   "outputs": [
    {
     "data": {
      "text/plain": [
       "array([28.24330845, 12.50283908])"
      ]
     },
     "execution_count": 65,
     "metadata": {},
     "output_type": "execute_result"
    }
   ],
   "source": [
    "age=arr[arr[:,7]==10]\n",
    "avg=age[:,3:5]\n",
    "def f(y):\n",
    "    return np.mean(y)\n",
    "average=np.apply_along_axis(f,0,avg)\n",
    "average  "
   ]
  },
  {
   "cell_type": "markdown",
   "id": "72c23677",
   "metadata": {},
   "source": [
    "# Q 6) :what is the shell weight?"
   ]
  },
  {
   "cell_type": "code",
   "execution_count": 66,
   "id": "8861d407",
   "metadata": {},
   "outputs": [
    {
     "data": {
      "text/plain": [
       "1326845.8295214002"
      ]
     },
     "execution_count": 66,
     "metadata": {},
     "output_type": "execute_result"
    }
   ],
   "source": [
    "shell_weight=arr[:,6]\n",
    "np.sum(shell_weight)"
   ]
  },
  {
   "cell_type": "markdown",
   "id": "3cf99dbe",
   "metadata": {},
   "source": [
    "# Q 7) :how many persons belongs belongs to each and every unique age?"
   ]
  },
  {
   "cell_type": "code",
   "execution_count": 48,
   "id": "c57d1a57",
   "metadata": {},
   "outputs": [
    {
     "data": {
      "text/plain": [
       "(array([ 1.,  2.,  3.,  4.,  5.,  6.,  7.,  8.,  9., 10., 11., 12., 13.,\n",
       "        14., 15., 16., 17., 18., 19., 20., 21., 22., 23., 24., 25., 26.,\n",
       "        27., 29.]),\n",
       " array([   46,    42,   625,  2787,  5475, 12450, 18276, 26818, 32906,\n",
       "        30803, 23457, 12717, 10037,  6352,  4831,  3191,  2705,  1953,\n",
       "         1591,  1206,   721,   296,   352,   110,    51,    46,    99,\n",
       "           57], dtype=int64))"
      ]
     },
     "execution_count": 48,
     "metadata": {},
     "output_type": "execute_result"
    }
   ],
   "source": [
    "age=arr[:,7]\n",
    "np.unique(age,return_counts=True)"
   ]
  },
  {
   "cell_type": "markdown",
   "id": "af621978",
   "metadata": {},
   "source": [
    "# Q 8) :what is the difference between shucked weight and viscera weight?"
   ]
  },
  {
   "cell_type": "code",
   "execution_count": 51,
   "id": "01f68b2e",
   "metadata": {},
   "outputs": [
    {
     "data": {
      "text/plain": [
       "array([5.9817445, 3.855532 , 4.1106775, ..., 2.9199985, 5.329706 ,\n",
       "       9.8372765])"
      ]
     },
     "execution_count": 51,
     "metadata": {},
     "output_type": "execute_result"
    }
   ],
   "source": [
    "shucked_weight=arr[:,4]\n",
    "viscera_weight=arr[:,5]\n",
    "difference=shucked_weight-viscera_weight\n",
    "difference"
   ]
  },
  {
   "cell_type": "markdown",
   "id": "89fa520e",
   "metadata": {},
   "source": [
    "# Q 9) :what is the average height of the person whose age is between 14 & 19?"
   ]
  },
  {
   "cell_type": "code",
   "execution_count": 59,
   "id": "11132d9a",
   "metadata": {},
   "outputs": [
    {
     "data": {
      "text/plain": [
       "32.11337167476735"
      ]
     },
     "execution_count": 59,
     "metadata": {},
     "output_type": "execute_result"
    }
   ],
   "source": [
    "x=arr[arr[:,7]>14] \n",
    "y=x[x[:,7]<19]\n",
    "z=y[:,3]\n",
    "np.mean(z)"
   ]
  },
  {
   "cell_type": "markdown",
   "id": "b1c789c2",
   "metadata": {},
   "source": [
    "# Q 10) :what is the average weight if we include shucker weight,viscera weight & shell weight?"
   ]
  },
  {
   "cell_type": "code",
   "execution_count": 64,
   "id": "1be3e396",
   "metadata": {},
   "outputs": [
    {
     "data": {
      "text/plain": [
       "array([23.12343631,  9.98937025,  4.99318096,  6.63422915])"
      ]
     },
     "execution_count": 64,
     "metadata": {},
     "output_type": "execute_result"
    }
   ],
   "source": [
    "avg=arr[:,3:7]\n",
    "avg\n",
    "def f(x):\n",
    "    return np.mean(x)\n",
    "average=np.apply_along_axis(f,0,avg)\n",
    "average  "
   ]
  },
  {
   "cell_type": "code",
   "execution_count": 21,
   "id": "87f20afd",
   "metadata": {},
   "outputs": [
    {
     "data": {
      "text/plain": [
       "array([[ 56.  ,  38.01,   3.  ,   1.  ,   1.  ,   0.  ,   0.  ,   4.  ],\n",
       "       [ 58.  ,  11.24,   1.76,   1.  ,   1.  ,   0.  ,   0.  ,   2.  ],\n",
       "       [ 60.  ,  20.29,   3.21,   1.  ,   1.  ,   0.  ,   0.  ,   2.  ],\n",
       "       [ 61.  ,  13.81,   2.  ,   1.  ,   1.  ,   0.  ,   0.  ,   2.  ],\n",
       "       [ 62.  ,  11.02,   1.98,   1.  ,   1.  ,   0.  ,   0.  ,   2.  ],\n",
       "       [ 63.  ,  18.29,   3.76,   1.  ,   1.  ,   0.  ,   0.  ,   4.  ],\n",
       "       [ 67.  ,   3.07,   1.  ,   0.  ,   1.  ,   0.  ,   0.  ,   1.  ],\n",
       "       [ 69.  ,  15.01,   2.09,   1.  ,   1.  ,   0.  ,   0.  ,   2.  ],\n",
       "       [ 72.  ,  26.86,   3.14,   0.  ,   1.  ,   0.  ,   0.  ,   2.  ],\n",
       "       [ 73.  ,  25.28,   5.  ,   0.  ,   1.  ,   0.  ,   0.  ,   2.  ],\n",
       "       [ 76.  ,  17.92,   3.08,   1.  ,   1.  ,   0.  ,   0.  ,   2.  ],\n",
       "       [ 80.  ,  19.44,   3.  ,   1.  ,   1.  ,   2.  ,   1.  ,   2.  ],\n",
       "       [ 83.  ,  32.68,   5.  ,   1.  ,   1.  ,   2.  ,   1.  ,   2.  ],\n",
       "       [ 90.  ,  28.97,   3.  ,   1.  ,   1.  ,   3.  ,   0.  ,   2.  ],\n",
       "       [ 92.  ,   5.75,   1.  ,   0.  ,   1.  ,   3.  ,   0.  ,   2.  ],\n",
       "       [ 93.  ,  16.32,   4.3 ,   0.  ,   1.  ,   3.  ,   0.  ,   2.  ],\n",
       "       [ 95.  ,  40.17,   4.73,   1.  ,   1.  ,   3.  ,   0.  ,   4.  ],\n",
       "       [ 96.  ,  27.28,   4.  ,   1.  ,   1.  ,   3.  ,   0.  ,   2.  ],\n",
       "       [ 97.  ,  12.03,   1.5 ,   1.  ,   1.  ,   3.  ,   0.  ,   2.  ],\n",
       "       [ 98.  ,  21.01,   3.  ,   1.  ,   1.  ,   3.  ,   0.  ,   2.  ],\n",
       "       [100.  ,  11.35,   2.5 ,   0.  ,   1.  ,   3.  ,   0.  ,   2.  ],\n",
       "       [101.  ,  15.38,   3.  ,   0.  ,   1.  ,   3.  ,   0.  ,   2.  ],\n",
       "       [102.  ,  44.3 ,   2.5 ,   0.  ,   1.  ,   0.  ,   0.  ,   3.  ],\n",
       "       [103.  ,  22.42,   3.48,   0.  ,   1.  ,   0.  ,   0.  ,   2.  ],\n",
       "       [105.  ,  15.36,   1.64,   1.  ,   1.  ,   0.  ,   0.  ,   2.  ],\n",
       "       [106.  ,  20.49,   4.06,   1.  ,   1.  ,   0.  ,   0.  ,   2.  ],\n",
       "       [107.  ,  25.21,   4.29,   1.  ,   1.  ,   0.  ,   0.  ,   2.  ],\n",
       "       [109.  ,  14.31,   4.  ,   0.  ,   1.  ,   0.  ,   0.  ,   2.  ],\n",
       "       [138.  ,  16.  ,   2.  ,   1.  ,   1.  ,   2.  ,   1.  ,   2.  ],\n",
       "       [164.  ,  17.51,   3.  ,   0.  ,   1.  ,   1.  ,   0.  ,   2.  ],\n",
       "       [168.  ,  10.59,   1.61,   0.  ,   1.  ,   0.  ,   0.  ,   2.  ],\n",
       "       [169.  ,  10.63,   2.  ,   0.  ,   1.  ,   0.  ,   0.  ,   2.  ],\n",
       "       [170.  ,  50.81,  10.  ,   1.  ,   1.  ,   0.  ,   0.  ,   3.  ],\n",
       "       [171.  ,  15.81,   3.16,   1.  ,   1.  ,   0.  ,   0.  ,   2.  ],\n",
       "       [172.  ,   7.25,   5.15,   1.  ,   1.  ,   1.  ,   0.  ,   2.  ],\n",
       "       [173.  ,  31.85,   3.18,   1.  ,   1.  ,   1.  ,   0.  ,   2.  ],\n",
       "       [174.  ,  16.82,   4.  ,   1.  ,   1.  ,   1.  ,   0.  ,   2.  ],\n",
       "       [175.  ,  32.9 ,   3.11,   1.  ,   1.  ,   1.  ,   0.  ,   2.  ],\n",
       "       [176.  ,  17.89,   2.  ,   1.  ,   1.  ,   1.  ,   0.  ,   2.  ],\n",
       "       [177.  ,  14.48,   2.  ,   1.  ,   1.  ,   1.  ,   0.  ,   2.  ],\n",
       "       [178.  ,   9.6 ,   4.  ,   0.  ,   1.  ,   1.  ,   0.  ,   2.  ],\n",
       "       [179.  ,  34.63,   3.55,   1.  ,   1.  ,   1.  ,   0.  ,   2.  ],\n",
       "       [180.  ,  34.65,   3.68,   1.  ,   1.  ,   1.  ,   0.  ,   4.  ],\n",
       "       [181.  ,  23.33,   5.65,   1.  ,   1.  ,   1.  ,   0.  ,   2.  ],\n",
       "       [182.  ,  45.35,   3.5 ,   1.  ,   1.  ,   1.  ,   0.  ,   3.  ],\n",
       "       [183.  ,  23.17,   6.5 ,   1.  ,   1.  ,   1.  ,   0.  ,   4.  ],\n",
       "       [184.  ,  40.55,   3.  ,   1.  ,   1.  ,   1.  ,   0.  ,   2.  ],\n",
       "       [186.  ,  20.9 ,   3.5 ,   0.  ,   1.  ,   1.  ,   0.  ,   3.  ],\n",
       "       [187.  ,  30.46,   2.  ,   1.  ,   1.  ,   1.  ,   0.  ,   5.  ],\n",
       "       [188.  ,  18.15,   3.5 ,   0.  ,   1.  ,   1.  ,   0.  ,   3.  ],\n",
       "       [189.  ,  23.1 ,   4.  ,   1.  ,   1.  ,   1.  ,   0.  ,   3.  ],\n",
       "       [190.  ,  15.69,   1.5 ,   1.  ,   1.  ,   1.  ,   0.  ,   2.  ],\n",
       "       [191.  ,  19.81,   4.19,   0.  ,   1.  ,   2.  ,   1.  ,   2.  ],\n",
       "       [192.  ,  28.44,   2.56,   1.  ,   1.  ,   2.  ,   1.  ,   2.  ],\n",
       "       [193.  ,  15.48,   2.02,   1.  ,   1.  ,   2.  ,   1.  ,   2.  ],\n",
       "       [194.  ,  16.58,   4.  ,   1.  ,   1.  ,   2.  ,   1.  ,   2.  ],\n",
       "       [196.  ,  10.34,   2.  ,   1.  ,   1.  ,   2.  ,   1.  ,   2.  ],\n",
       "       [197.  ,  43.11,   5.  ,   0.  ,   1.  ,   2.  ,   1.  ,   4.  ],\n",
       "       [198.  ,  13.  ,   2.  ,   0.  ,   1.  ,   2.  ,   1.  ,   2.  ],\n",
       "       [199.  ,  13.51,   2.  ,   1.  ,   1.  ,   2.  ,   1.  ,   2.  ],\n",
       "       [200.  ,  18.71,   4.  ,   1.  ,   1.  ,   2.  ,   1.  ,   3.  ],\n",
       "       [201.  ,  12.74,   2.01,   0.  ,   1.  ,   2.  ,   1.  ,   2.  ],\n",
       "       [202.  ,  13.  ,   2.  ,   0.  ,   1.  ,   2.  ,   1.  ,   2.  ],\n",
       "       [203.  ,  16.4 ,   2.5 ,   0.  ,   1.  ,   2.  ,   1.  ,   2.  ],\n",
       "       [204.  ,  20.53,   4.  ,   1.  ,   1.  ,   2.  ,   1.  ,   4.  ],\n",
       "       [205.  ,  16.47,   3.23,   0.  ,   1.  ,   2.  ,   1.  ,   3.  ],\n",
       "       [206.  ,  26.59,   3.41,   1.  ,   1.  ,   0.  ,   0.  ,   3.  ],\n",
       "       [207.  ,  38.73,   3.  ,   1.  ,   1.  ,   0.  ,   0.  ,   4.  ],\n",
       "       [208.  ,  24.27,   2.03,   1.  ,   1.  ,   0.  ,   0.  ,   2.  ],\n",
       "       [209.  ,  12.76,   2.23,   0.  ,   1.  ,   0.  ,   0.  ,   2.  ],\n",
       "       [210.  ,  30.06,   2.  ,   1.  ,   1.  ,   0.  ,   0.  ,   3.  ],\n",
       "       [211.  ,  25.89,   5.16,   1.  ,   1.  ,   0.  ,   0.  ,   4.  ],\n",
       "       [213.  ,  13.27,   2.5 ,   0.  ,   1.  ,   0.  ,   0.  ,   2.  ],\n",
       "       [214.  ,  28.17,   6.5 ,   0.  ,   1.  ,   0.  ,   0.  ,   3.  ],\n",
       "       [215.  ,  12.9 ,   1.1 ,   0.  ,   1.  ,   0.  ,   0.  ,   2.  ],\n",
       "       [216.  ,  28.15,   3.  ,   1.  ,   1.  ,   0.  ,   0.  ,   5.  ],\n",
       "       [217.  ,  11.59,   1.5 ,   1.  ,   1.  ,   0.  ,   0.  ,   2.  ],\n",
       "       [218.  ,   7.74,   1.44,   1.  ,   1.  ,   0.  ,   0.  ,   2.  ],\n",
       "       [219.  ,  30.14,   3.09,   0.  ,   1.  ,   0.  ,   0.  ,   4.  ],\n",
       "       [220.  ,  12.16,   2.2 ,   1.  ,   1.  ,   3.  ,   1.  ,   2.  ],\n",
       "       [221.  ,  13.42,   3.48,   0.  ,   1.  ,   3.  ,   1.  ,   2.  ],\n",
       "       [222.  ,   8.58,   1.92,   1.  ,   1.  ,   3.  ,   1.  ,   1.  ],\n",
       "       [224.  ,  13.42,   1.58,   1.  ,   1.  ,   3.  ,   1.  ,   2.  ],\n",
       "       [225.  ,  16.27,   2.5 ,   0.  ,   1.  ,   3.  ,   1.  ,   2.  ],\n",
       "       [226.  ,  10.09,   2.  ,   0.  ,   1.  ,   3.  ,   1.  ,   2.  ],\n",
       "       [229.  ,  22.12,   2.88,   0.  ,   1.  ,   0.  ,   0.  ,   2.  ],\n",
       "       [230.  ,  24.01,   2.  ,   1.  ,   1.  ,   0.  ,   0.  ,   4.  ],\n",
       "       [231.  ,  15.69,   3.  ,   1.  ,   1.  ,   0.  ,   0.  ,   3.  ],\n",
       "       [234.  ,  15.53,   3.  ,   1.  ,   1.  ,   0.  ,   0.  ,   2.  ],\n",
       "       [236.  ,  12.6 ,   1.  ,   1.  ,   1.  ,   0.  ,   0.  ,   2.  ],\n",
       "       [237.  ,  32.83,   1.17,   1.  ,   1.  ,   0.  ,   0.  ,   2.  ],\n",
       "       [240.  ,  27.18,   2.  ,   0.  ,   1.  ,   0.  ,   0.  ,   2.  ],\n",
       "       [241.  ,  22.67,   2.  ,   1.  ,   1.  ,   0.  ,   0.  ,   2.  ]])"
      ]
     },
     "execution_count": 21,
     "metadata": {},
     "output_type": "execute_result"
    }
   ],
   "source": [
    "smokers=arr[arr[:,4]==1]\n",
    "smokers\n",
    "\n"
   ]
  },
  {
   "cell_type": "code",
   "execution_count": null,
   "id": "200029de",
   "metadata": {},
   "outputs": [],
   "source": []
  }
 ],
 "metadata": {
  "kernelspec": {
   "display_name": "Python 3 (ipykernel)",
   "language": "python",
   "name": "python3"
  },
  "language_info": {
   "codemirror_mode": {
    "name": "ipython",
    "version": 3
   },
   "file_extension": ".py",
   "mimetype": "text/x-python",
   "name": "python",
   "nbconvert_exporter": "python",
   "pygments_lexer": "ipython3",
   "version": "3.11.3"
  }
 },
 "nbformat": 4,
 "nbformat_minor": 5
}
